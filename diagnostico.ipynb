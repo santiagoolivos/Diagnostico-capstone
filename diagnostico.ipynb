{
 "cells": [
  {
   "cell_type": "markdown",
   "metadata": {},
   "source": [
    "### **Evaluacion de diagnostico de buenas prácticas de gitflow**"
   ]
  },
  {
   "cell_type": "markdown",
   "metadata": {},
   "source": [
    "El programa debe ser modular, osea cada una de los tres ejercicios debe ser una función independiente que debe ser llamada por una función Main. Osea tienes que crear una función Main, que permita llamar a cualquiera de las cuatro funciones, No es necesario una interfaz gráfica ni web, un Jupiter Notebbok es suficiente y es lo que esperamos. "
   ]
  },
  {
   "cell_type": "markdown",
   "metadata": {},
   "source": []
  }
 ],
 "metadata": {
  "interpreter": {
   "hash": "af298cac60c55fea462dcc641781c299925a04d5764308dfdd33c13e18b346c0"
  },
  "kernelspec": {
   "display_name": "Python 3.8.2 64-bit",
   "language": "python",
   "name": "python3"
  },
  "language_info": {
   "codemirror_mode": {
    "name": "ipython",
    "version": 3
   },
   "file_extension": ".py",
   "mimetype": "text/x-python",
   "name": "python",
   "nbconvert_exporter": "python",
   "pygments_lexer": "ipython3",
   "version": "3.8.2"
  },
  "orig_nbformat": 4
 },
 "nbformat": 4,
 "nbformat_minor": 2
}
