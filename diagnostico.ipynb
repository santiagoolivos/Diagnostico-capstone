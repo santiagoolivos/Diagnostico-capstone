{
 "cells": [
  {
   "cell_type": "markdown",
   "metadata": {},
   "source": [
    "### **Evaluacion de diagnostico de buenas prácticas de gitflow**"
   ]
  },
  {
   "cell_type": "markdown",
   "metadata": {},
   "source": [
    "El programa debe ser modular, osea cada una de los tres ejercicios debe ser una función independiente que debe ser llamada por una función Main. Osea tienes que crear una función Main, que permita llamar a cualquiera de las cuatro funciones, No es necesario una interfaz gráfica ni web, un Jupiter Notebbok es suficiente y es lo que esperamos. "
   ]
  },
  {
   "cell_type": "markdown",
   "metadata": {},
   "source": [
    "Importamos lo necesario"
   ]
  },
  {
   "cell_type": "code",
   "execution_count": 50,
   "metadata": {},
   "outputs": [],
   "source": [
    "import json \n",
    "\n",
    "lista_tweets = []\n",
    "with open('farmers-protest-tweets-2021-03-5.json') as file:\n",
    "  for line in file:\n",
    "    line = json.loads(line)\n",
    "    lista_tweets.append(line)\n",
    "      \n",
    "      "
   ]
  },
  {
   "cell_type": "markdown",
   "metadata": {},
   "source": [
    "#### Función 1: Los top 10 tweets más retweeted."
   ]
  },
  {
   "cell_type": "code",
   "execution_count": 51,
   "metadata": {},
   "outputs": [],
   "source": [
    "def mas_retweeted(lista_tweets):\n",
    "  \n",
    "  def retorna_conteo_tweets(tweet):\n",
    "    return tweet['retweetCount']\n",
    "  \n",
    "  lista_tweets.sort(key=retorna_conteo_tweets)\n",
    "  lista_tweets.reverse()\n",
    "  print(\"Los tweets con mas retweet son:\")\n",
    "  for i in range(10):\n",
    "    print(f\"{i+1}. '{lista_tweets[i]['content']}' de '{lista_tweets[i]['user']['username']}' con {lista_tweets[i]['retweetCount']} retweetes\")\n",
    "   \n",
    "     \n"
   ]
  },
  {
   "cell_type": "code",
   "execution_count": 52,
   "metadata": {},
   "outputs": [
    {
     "name": "stdout",
     "output_type": "stream",
     "text": [
      "Los tweets con mas retweet son:\n",
      "1. 'why aren’t we talking about this?! #FarmersProtest https://t.co/obmIlXhK9S' de 'rihanna' con 315547 retweetes\n",
      "2. 'We stand in solidarity with the #FarmersProtest in India.\n",
      " https://t.co/tqvR0oHgo0' de 'GretaThunberg' con 103957 retweetes\n",
      "3. 'I still #StandWithFarmers and support their peaceful protest.\n",
      "No amount of hate, threats or violations of human rights will ever change that. #FarmersProtest' de 'GretaThunberg' con 67694 retweetes\n",
      "4. '“Paid actors,” huh? Quite the casting director, I hope they’re not overlooked during awards season. I stand with the farmers. #FarmersProtest https://t.co/moONj03tN0' de 'miakhalifa' con 35921 retweetes\n",
      "5. 'What in the human rights violations is going on?! They cut the internet around New Delhi?! #FarmersProtest https://t.co/a5ml1P2ikU' de 'miakhalifa' con 26972 retweetes\n",
      "6. 'Happy to share that I’ve donated $10,000 to provide medical assistance to the farmers in need in India to help save lives during these times. I hope we can prevent any additional life from being lost. 🙏🏾 #FarmersProtest https://t.co/0WoEw0l3ij' de 'TeamJuJu' con 23251 retweetes\n",
      "7. 'There has been much social media coverage around the #FarmersProtest in #India. Very useful guide to the legislation and the impact on farmers. 1/2 https://t.co/3CsdgBebdZ' de 'BobBlackman' con 20132 retweetes\n",
      "8. 'Farmers feed the world. Fight for them. Protect them #FarmersProtest' de 'vanessa_vash' con 18744 retweetes\n",
      "9. 'Should be talking about this! #FarmersProtest\n",
      "\n",
      "https://t.co/Xh09iTvVoF' de 'kylekuzma' con 17368 retweetes\n",
      "10. 'To all of my influencer/celeb friends- read up on this   #FarmersProtest 👀' de 'AmandaCerny' con 15677 retweetes\n"
     ]
    }
   ],
   "source": [
    "mas_retweeted(lista_tweets)"
   ]
  }
 ],
 "metadata": {
  "interpreter": {
   "hash": "af298cac60c55fea462dcc641781c299925a04d5764308dfdd33c13e18b346c0"
  },
  "kernelspec": {
   "display_name": "Python 3.8.2 64-bit",
   "language": "python",
   "name": "python3"
  },
  "language_info": {
   "codemirror_mode": {
    "name": "ipython",
    "version": 3
   },
   "file_extension": ".py",
   "mimetype": "text/x-python",
   "name": "python",
   "nbconvert_exporter": "python",
   "pygments_lexer": "ipython3",
   "version": "3.8.2"
  },
  "orig_nbformat": 4
 },
 "nbformat": 4,
 "nbformat_minor": 2
}
